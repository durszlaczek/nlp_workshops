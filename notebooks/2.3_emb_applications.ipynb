{
 "cells": [
  {
   "cell_type": "code",
   "execution_count": 1,
   "metadata": {},
   "outputs": [],
   "source": [
    "import pandas as pd\n",
    "import numpy as np\n",
    "from nltk.tokenize import RegexpTokenizer\n",
    "from nltk.stem import WordNetLemmatizer\n",
    "from sklearn.manifold import TSNE\n",
    "from sklearn.decomposition import PCA\n",
    "import matplotlib.pyplot as plt\n",
    "from sklearn.model_selection import train_test_split\n",
    "from sklearn.linear_model import LogisticRegression\n",
    "from sklearn.metrics import accuracy_score\n",
    "import csv\n",
    "import re\n",
    "news_reddit = pd.read_csv('../data/news_lang.csv', sep=';').drop('Unnamed: 0', axis=1)"
   ]
  },
  {
   "cell_type": "code",
   "execution_count": 2,
   "metadata": {},
   "outputs": [
    {
     "data": {
      "text/html": [
       "<div>\n",
       "<style scoped>\n",
       "    .dataframe tbody tr th:only-of-type {\n",
       "        vertical-align: middle;\n",
       "    }\n",
       "\n",
       "    .dataframe tbody tr th {\n",
       "        vertical-align: top;\n",
       "    }\n",
       "\n",
       "    .dataframe thead th {\n",
       "        text-align: right;\n",
       "    }\n",
       "</style>\n",
       "<table border=\"1\" class=\"dataframe\">\n",
       "  <thead>\n",
       "    <tr style=\"text-align: right;\">\n",
       "      <th></th>\n",
       "      <th>title</th>\n",
       "      <th>score</th>\n",
       "      <th>num_comments</th>\n",
       "      <th>created_utc</th>\n",
       "      <th>lang</th>\n",
       "    </tr>\n",
       "  </thead>\n",
       "  <tbody>\n",
       "    <tr>\n",
       "      <th>554026</th>\n",
       "      <td>Australian Police Arrest 4 Men Allegedly Plott...</td>\n",
       "      <td>1</td>\n",
       "      <td>0</td>\n",
       "      <td>1501425378</td>\n",
       "      <td>en</td>\n",
       "    </tr>\n",
       "    <tr>\n",
       "      <th>552468</th>\n",
       "      <td>Kapolda Metro Jaya Apresiasi Aksi 287 Berlangs...</td>\n",
       "      <td>1</td>\n",
       "      <td>0</td>\n",
       "      <td>1501298041</td>\n",
       "      <td>id</td>\n",
       "    </tr>\n",
       "    <tr>\n",
       "      <th>172185</th>\n",
       "      <td>AMAZING! The Media Does Not Want You To See Wh...</td>\n",
       "      <td>1</td>\n",
       "      <td>0</td>\n",
       "      <td>1490068207</td>\n",
       "      <td>en</td>\n",
       "    </tr>\n",
       "    <tr>\n",
       "      <th>584121</th>\n",
       "      <td>Những Điều Cần Biết Khi Khởi Nghiệp Kinh Doanh...</td>\n",
       "      <td>1</td>\n",
       "      <td>0</td>\n",
       "      <td>1503043888</td>\n",
       "      <td>vi</td>\n",
       "    </tr>\n",
       "    <tr>\n",
       "      <th>285688</th>\n",
       "      <td>OK Google! Plenty of Useful Things You Can Say...</td>\n",
       "      <td>1</td>\n",
       "      <td>0</td>\n",
       "      <td>1495866597</td>\n",
       "      <td>en</td>\n",
       "    </tr>\n",
       "  </tbody>\n",
       "</table>\n",
       "</div>"
      ],
      "text/plain": [
       "                                                    title  score  \\\n",
       "554026  Australian Police Arrest 4 Men Allegedly Plott...      1   \n",
       "552468  Kapolda Metro Jaya Apresiasi Aksi 287 Berlangs...      1   \n",
       "172185  AMAZING! The Media Does Not Want You To See Wh...      1   \n",
       "584121  Những Điều Cần Biết Khi Khởi Nghiệp Kinh Doanh...      1   \n",
       "285688  OK Google! Plenty of Useful Things You Can Say...      1   \n",
       "\n",
       "        num_comments  created_utc lang  \n",
       "554026             0   1501425378   en  \n",
       "552468             0   1501298041   id  \n",
       "172185             0   1490068207   en  \n",
       "584121             0   1503043888   vi  \n",
       "285688             0   1495866597   en  "
      ]
     },
     "execution_count": 2,
     "metadata": {},
     "output_type": "execute_result"
    }
   ],
   "source": [
    "ones = news_reddit[news_reddit['score']==1].sample(n=(news_reddit[news_reddit['score']>1].shape[0]-news_reddit[news_reddit['score']==0].shape[0]))\n",
    "zeros = news_reddit[news_reddit['score']==0]\n",
    "rest = news_reddit[news_reddit['score']>1]\n",
    "\n",
    "news_reddit = pd.concat([ones, zeros, rest])\n",
    "news_reddit.sample(frac=1)\n",
    "news_reddit.head()"
   ]
  },
  {
   "cell_type": "code",
   "execution_count": 3,
   "metadata": {},
   "outputs": [],
   "source": [
    "news_reddit = news_reddit[news_reddit['lang'] == 'en']\n",
    "news_reddit[\"title\"] = news_reddit['title'].apply(lambda x:  re.sub(r\"\\'.+?\", '', x))\n",
    "pattern = r'[\\d.,]+|[A-Z][.A-Z]+\\b\\.*|\\w+|\\S'\n",
    "tokenizer = RegexpTokenizer(pattern)\n",
    "news_reddit[\"tokenized_titles\"] = news_reddit['title'].apply(lambda x: tokenizer.tokenize(x.lower()))"
   ]
  },
  {
   "cell_type": "code",
   "execution_count": 4,
   "metadata": {},
   "outputs": [],
   "source": [
    "def load_fb_embeddings(dict_dir, max_dict_lenght):\n",
    "    dict_df = pd.read_csv(dict_dir, sep=';', nrows=max_dict_lenght, skiprows=1, encoding='utf8', quoting=csv.QUOTE_NONE,\n",
    "                          header=None)\n",
    "    embeddings_word_index = dict_df.iloc[:, 0]\n",
    "    embeddings_word_index = pd.Series(embeddings_word_index.index, index=embeddings_word_index)\n",
    "    embeddings_word_index = embeddings_word_index.to_dict()\n",
    "    # throw out the first column (with words) and last one (with nans)\n",
    "    embeddings_matrix = np.array(dict_df.iloc[:, 1:-1])\n",
    "    return embeddings_word_index, embeddings_matrix\n",
    "\n",
    "def get_text_embs(word_list, emb_index, emb_matrix):\n",
    "    return np.mean([emb_matrix[emb_index.get(word, 0)] for word in word_list], axis=0)"
   ]
  },
  {
   "cell_type": "code",
   "execution_count": 5,
   "metadata": {},
   "outputs": [],
   "source": [
    "embeddings_word_index, embedding_matrix = load_fb_embeddings('../data/wiki10k.csv', None)"
   ]
  },
  {
   "cell_type": "code",
   "execution_count": 6,
   "metadata": {},
   "outputs": [
    {
     "name": "stdout",
     "output_type": "stream",
     "text": [
      "[t-SNE] Computing 91 nearest neighbors...\n",
      "[t-SNE] Indexed 10000 samples in 0.019s...\n",
      "[t-SNE] Computed neighbors for 10000 samples in 6.019s...\n",
      "[t-SNE] Computed conditional probabilities for sample 1000 / 10000\n",
      "[t-SNE] Computed conditional probabilities for sample 2000 / 10000\n",
      "[t-SNE] Computed conditional probabilities for sample 3000 / 10000\n",
      "[t-SNE] Computed conditional probabilities for sample 4000 / 10000\n",
      "[t-SNE] Computed conditional probabilities for sample 5000 / 10000\n",
      "[t-SNE] Computed conditional probabilities for sample 6000 / 10000\n",
      "[t-SNE] Computed conditional probabilities for sample 7000 / 10000\n",
      "[t-SNE] Computed conditional probabilities for sample 8000 / 10000\n",
      "[t-SNE] Computed conditional probabilities for sample 9000 / 10000\n",
      "[t-SNE] Computed conditional probabilities for sample 10000 / 10000\n",
      "[t-SNE] Mean sigma: 0.564258\n",
      "[t-SNE] KL divergence after 250 iterations with early exaggeration: 92.625145\n",
      "[t-SNE] Error after 251 iterations: 179769313486231570814527423731704356798070567525844996598917476803157260780028538760589558632766878171540458953514382464234321326889464182768467546703537516986049910576551282076245490090389328944075868508455133942304583236903222948165808559332123348274797826204144723168738177180919299881250404026184124858368.000000\n"
     ]
    }
   ],
   "source": [
    "pca = PCA(n_components=30)\n",
    "pca_emb = pca.fit_transform(embedding_matrix)\n",
    "tsne = TSNE(n_components=2, random_state=0, verbose=1, n_iter=1000)\n",
    "reduced_emb = tsne.fit_transform(pca_emb)"
   ]
  },
  {
   "cell_type": "code",
   "execution_count": 7,
   "metadata": {},
   "outputs": [
    {
     "name": "stdout",
     "output_type": "stream",
     "text": [
      "(300,)\n"
     ]
    },
    {
     "data": {
      "text/plain": [
       "array([ 0.10169276, -0.06427216, -0.11815847,  0.1615283 , -0.1071124 ,\n",
       "        0.0319062 , -0.04408632, -0.18752063, -0.04514017,  0.1163215 ])"
      ]
     },
     "execution_count": 7,
     "metadata": {},
     "output_type": "execute_result"
    }
   ],
   "source": [
    "print(get_text_embs(news_reddit[\"tokenized_titles\"][0], embeddings_word_index, embedding_matrix).shape)\n",
    "get_text_embs(news_reddit[\"tokenized_titles\"][0], embeddings_word_index, embedding_matrix)[0:10]"
   ]
  },
  {
   "cell_type": "code",
   "execution_count": 8,
   "metadata": {},
   "outputs": [],
   "source": [
    "X = np.vstack(news_reddit[\"tokenized_titles\"].apply(get_text_embs, args=(embeddings_word_index, embedding_matrix)))\n",
    "Y = np.array([1 if x > 1 else 0 for x in news_reddit.score])\n",
    "X_train, X_test, Y_train, Y_test = train_test_split(X, Y, test_size=0.1, random_state=1)"
   ]
  },
  {
   "cell_type": "code",
   "execution_count": 9,
   "metadata": {},
   "outputs": [
    {
     "data": {
      "text/plain": [
       "LogisticRegression(C=1.0, class_weight=None, dual=False, fit_intercept=True,\n",
       "          intercept_scaling=1, max_iter=100, multi_class='ovr', n_jobs=1,\n",
       "          penalty='l2', random_state=None, solver='liblinear', tol=0.0001,\n",
       "          verbose=0, warm_start=False)"
      ]
     },
     "execution_count": 9,
     "metadata": {},
     "output_type": "execute_result"
    }
   ],
   "source": [
    "clf = LogisticRegression()\n",
    "clf.fit(X_train, Y_train)"
   ]
  },
  {
   "cell_type": "code",
   "execution_count": 10,
   "metadata": {},
   "outputs": [
    {
     "data": {
      "text/plain": [
       "0.7489095090808153"
      ]
     },
     "execution_count": 10,
     "metadata": {},
     "output_type": "execute_result"
    }
   ],
   "source": [
    "accuracy_score(Y_test, clf.predict(X_test))"
   ]
  },
  {
   "cell_type": "code",
   "execution_count": 20,
   "metadata": {},
   "outputs": [
    {
     "data": {
      "image/png": "[encoded data removed]",
      "text/plain": [
       "<Figure size 432x288 with 1 Axes>"
      ]
     },
     "metadata": {},
     "output_type": "display_data"
    }
   ],
   "source": [
    "import matplotlib.pyplot as plt\n",
    "reduced_emb[embeddings_word_index['king']]\n",
    "\n",
    "fig, ax = plt.subplots()\n",
    "ax.margins(0.05)\n",
    "for name in ['doctor', 'nurse', 'man', 'woman']:\n",
    "    ax.plot(reduced_emb[embeddings_word_index[name]][0], reduced_emb[embeddings_word_index[name]][1], marker='o', linestyle='', ms=10, label=name)\n",
    "ax.legend()\n",
    "plt.show()"
   ]
  }
 ],
 "metadata": {
  "kernelspec": {
   "display_name": "Python 3",
   "language": "python",
   "name": "python3"
  },
  "language_info": {
   "codemirror_mode": {
    "name": "ipython",
    "version": 3
   },
   "file_extension": ".py",
   "mimetype": "text/x-python",
   "name": "python",
   "nbconvert_exporter": "python",
   "pygments_lexer": "ipython3",
   "version": "3.6.5"
  }
 },
 "nbformat": 4,
 "nbformat_minor": 2
}
