{
 "cells": [
  {
   "cell_type": "markdown",
   "metadata": {},
   "source": [
    "# SEJM VII RP"
   ]
  },
  {
   "cell_type": "markdown",
   "metadata": {},
   "source": [
    "Now we will analyze text data of parliamentary speeches from Polish Sejm from the previous cadency. \n",
    "\n",
    "The data was downloaded using [this API](https://mojepanstwo.pl/api/sejmometr). "
   ]
  },
  {
   "cell_type": "code",
   "execution_count": 1,
   "metadata": {},
   "outputs": [],
   "source": [
    "import pandas as pd\n",
    "import numpy as np\n",
    "import matplotlib.pyplot as plt"
   ]
  },
  {
   "cell_type": "code",
   "execution_count": 2,
   "metadata": {},
   "outputs": [],
   "source": [
    "sejm = pd.read_csv('../data/sejm.csv')"
   ]
  },
  {
   "cell_type": "code",
   "execution_count": 3,
   "metadata": {},
   "outputs": [
    {
     "data": {
      "text/plain": [
       "(71259, 4)"
      ]
     },
     "execution_count": 3,
     "metadata": {},
     "output_type": "execute_result"
    }
   ],
   "source": [
    "sejm.shape"
   ]
  },
  {
   "cell_type": "code",
   "execution_count": 4,
   "metadata": {},
   "outputs": [
    {
     "data": {
      "text/plain": [
       "Index(['lemma', 'text', 'name', 'date'], dtype='object')"
      ]
     },
     "execution_count": 4,
     "metadata": {},
     "output_type": "execute_result"
    }
   ],
   "source": [
    "sejm.columns"
   ]
  },
  {
   "cell_type": "code",
   "execution_count": 5,
   "metadata": {},
   "outputs": [
    {
     "data": {
      "text/html": [
       "<div>\n",
       "<style scoped>\n",
       "    .dataframe tbody tr th:only-of-type {\n",
       "        vertical-align: middle;\n",
       "    }\n",
       "\n",
       "    .dataframe tbody tr th {\n",
       "        vertical-align: top;\n",
       "    }\n",
       "\n",
       "    .dataframe thead th {\n",
       "        text-align: right;\n",
       "    }\n",
       "</style>\n",
       "<table border=\"1\" class=\"dataframe\">\n",
       "  <thead>\n",
       "    <tr style=\"text-align: right;\">\n",
       "      <th></th>\n",
       "      <th>lemma</th>\n",
       "      <th>text</th>\n",
       "      <th>name</th>\n",
       "      <th>date</th>\n",
       "    </tr>\n",
       "  </thead>\n",
       "  <tbody>\n",
       "    <tr>\n",
       "      <th>0</th>\n",
       "      <td>przystępować do rozpatrzyć punkt 16 . porządek...</td>\n",
       "      <td>Przystępujemy do rozpatrzenia punktu 16.  por...</td>\n",
       "      <td>Ewa Kopacz</td>\n",
       "      <td>2011-12-01</td>\n",
       "    </tr>\n",
       "    <tr>\n",
       "      <th>1</th>\n",
       "      <td>kto z pani i pan poseł być za przyjąć wniosek ...</td>\n",
       "      <td>Kto z pań i panów posłów jest za przyjęciem w...</td>\n",
       "      <td>Ewa Kopacz</td>\n",
       "      <td>2011-12-01</td>\n",
       "    </tr>\n",
       "    <tr>\n",
       "      <th>2</th>\n",
       "      <td>przystępować do rozpatrzyć punkt 15 . porządek...</td>\n",
       "      <td>Przystępujemy do rozpatrzenia punktu 15.  por...</td>\n",
       "      <td>Ewa Kopacz</td>\n",
       "      <td>2011-12-01</td>\n",
       "    </tr>\n",
       "    <tr>\n",
       "      <th>3</th>\n",
       "      <td>dziękować bardzo , pan poseł . czy ktoś z pani...</td>\n",
       "      <td>Dziękuję bardzo, panie pośle.  Czy ktoś z pań...</td>\n",
       "      <td>Ewa Kopacz</td>\n",
       "      <td>2011-12-01</td>\n",
       "    </tr>\n",
       "    <tr>\n",
       "      <th>4</th>\n",
       "      <td>przystępować do rozpatrzyć punkt 17 . porządek...</td>\n",
       "      <td>Przystępujemy do rozpatrzenia punktu 17.  por...</td>\n",
       "      <td>Ewa Kopacz</td>\n",
       "      <td>2011-12-01</td>\n",
       "    </tr>\n",
       "    <tr>\n",
       "      <th>5</th>\n",
       "      <td>dziękować pan poseł . głos mieć pan poseł Tade...</td>\n",
       "      <td>Dziękuję panu posłowi.  Głos ma pan poseł Tad...</td>\n",
       "      <td>Cezary Grabarczyk</td>\n",
       "      <td>2011-12-01</td>\n",
       "    </tr>\n",
       "    <tr>\n",
       "      <th>6</th>\n",
       "      <td>pani marszałek ! wysoki izba ! w związek z fak...</td>\n",
       "      <td>Pani Marszałek!  Wysoka Izbo!  W związku z fa...</td>\n",
       "      <td>Arkadiusz Mularczyk</td>\n",
       "      <td>2011-12-01</td>\n",
       "    </tr>\n",
       "    <tr>\n",
       "      <th>7</th>\n",
       "      <td>dziękować bardzo . pani marszałek ! pani i pan...</td>\n",
       "      <td>Dziękuję bardzo.  Pani Marszałek!  Panie i Pa...</td>\n",
       "      <td>Stanisław Piotrowicz</td>\n",
       "      <td>2011-12-01</td>\n",
       "    </tr>\n",
       "    <tr>\n",
       "      <th>8</th>\n",
       "      <td>dziękować pan poseł . głos mieć pan poseł Tade...</td>\n",
       "      <td>Dziękuję panu posłowi.  Głos ma pan poseł Tad...</td>\n",
       "      <td>Cezary Grabarczyk</td>\n",
       "      <td>2011-12-01</td>\n",
       "    </tr>\n",
       "    <tr>\n",
       "      <th>9</th>\n",
       "      <td>dziękować pan poseł . zakończyć być oświadczen...</td>\n",
       "      <td>Dziękuję panu posłowi.  Zakończyliśmy oświadc...</td>\n",
       "      <td>Cezary Grabarczyk</td>\n",
       "      <td>2011-12-01</td>\n",
       "    </tr>\n",
       "    <tr>\n",
       "      <th>10</th>\n",
       "      <td>pani marszałek ! wysoki sejm ! chcieć by być s...</td>\n",
       "      <td>Pani Marszałek!  Wysoki Sejmie!  Chciałbym si...</td>\n",
       "      <td>Marek Matuszewski</td>\n",
       "      <td>2011-12-01</td>\n",
       "    </tr>\n",
       "    <tr>\n",
       "      <th>11</th>\n",
       "      <td>dziękować bardzo . odnosić się do obydwa wnios...</td>\n",
       "      <td>Dziękuję bardzo.  Odnoszę się do obydwu wnios...</td>\n",
       "      <td>Ewa Kopacz</td>\n",
       "      <td>2011-12-01</td>\n",
       "    </tr>\n",
       "    <tr>\n",
       "      <th>12</th>\n",
       "      <td>pan przewodniczący , informować , że przed chw...</td>\n",
       "      <td>Panie przewodniczący, informuję, że przed chw...</td>\n",
       "      <td>Ewa Kopacz</td>\n",
       "      <td>2011-12-01</td>\n",
       "    </tr>\n",
       "    <tr>\n",
       "      <th>13</th>\n",
       "      <td>wznawiać posiedzenie . pani posłanka i pan pos...</td>\n",
       "      <td>Wznawiam posiedzenie. Panie posłanki i panów ...</td>\n",
       "      <td>Ewa Kopacz</td>\n",
       "      <td>2011-12-01</td>\n",
       "    </tr>\n",
       "    <tr>\n",
       "      <th>14</th>\n",
       "      <td>kto z pani i pan poseł być za przyjąć wniosek ...</td>\n",
       "      <td>Kto z pań i panów posłów jest za przyjęciem w...</td>\n",
       "      <td>Ewa Kopacz</td>\n",
       "      <td>2011-12-01</td>\n",
       "    </tr>\n",
       "    <tr>\n",
       "      <th>15</th>\n",
       "      <td>dziękować bardzo . pan przewodniczący Palikot ...</td>\n",
       "      <td>Dziękuję bardzo.  Pan przewodniczący Palikot....</td>\n",
       "      <td>Ewa Kopacz</td>\n",
       "      <td>2011-12-01</td>\n",
       "    </tr>\n",
       "    <tr>\n",
       "      <th>16</th>\n",
       "      <td>pani marszałek ! wysoki izba ! mieć prośba do ...</td>\n",
       "      <td>Pani Marszałek!  Wysoka Izbo!  Mam prośbę do ...</td>\n",
       "      <td>Jarosław Kaczyński</td>\n",
       "      <td>2011-12-01</td>\n",
       "    </tr>\n",
       "    <tr>\n",
       "      <th>17</th>\n",
       "      <td>pan marszałek ! wysoki izba ! mój oświadczenie...</td>\n",
       "      <td>Panie Marszałku!  Wysoka Izbo!  Moje oświadcz...</td>\n",
       "      <td>Tadeusz Arkit</td>\n",
       "      <td>2011-12-01</td>\n",
       "    </tr>\n",
       "    <tr>\n",
       "      <th>18</th>\n",
       "      <td>pan marszałek ! pani i pan poseł ! w 2013 rok ...</td>\n",
       "      <td>Panie Marszałku!  Panie i Panowie Posłowie!  ...</td>\n",
       "      <td>Jerzy Ziętek</td>\n",
       "      <td>2011-12-01</td>\n",
       "    </tr>\n",
       "    <tr>\n",
       "      <th>19</th>\n",
       "      <td>pan marszałek ! wysoki sejm ! mój oświadczenie...</td>\n",
       "      <td>Panie Marszałku!  Wysoki Sejmie!  Moje oświad...</td>\n",
       "      <td>Tadeusz Tomaszewski</td>\n",
       "      <td>2011-12-01</td>\n",
       "    </tr>\n",
       "    <tr>\n",
       "      <th>20</th>\n",
       "      <td>ruch Palikota zgłaszać wniosek formalny o 10 -...</td>\n",
       "      <td>Ruch Palikota zgłasza wniosek formalny o 10-m...</td>\n",
       "      <td>Artur Dębski</td>\n",
       "      <td>2011-12-01</td>\n",
       "    </tr>\n",
       "    <tr>\n",
       "      <th>21</th>\n",
       "      <td>dziękować , pan poseł . prosić o cisza . bardz...</td>\n",
       "      <td>Dziękuję, panie pośle. Proszę o ciszę.  Bardz...</td>\n",
       "      <td>Ewa Kopacz</td>\n",
       "      <td>2011-12-01</td>\n",
       "    </tr>\n",
       "    <tr>\n",
       "      <th>22</th>\n",
       "      <td>dziękować bardzo . prezydium sejm przedstawić ...</td>\n",
       "      <td>Dziękuję bardzo.  Prezydium Sejmu przedstawił...</td>\n",
       "      <td>Ewa Kopacz</td>\n",
       "      <td>2011-12-01</td>\n",
       "    </tr>\n",
       "    <tr>\n",
       "      <th>23</th>\n",
       "      <td>w dzień dzisiejszy odbyć się posiedzenie nastę...</td>\n",
       "      <td>W dniu dzisiejszym odbędą się posiedzenia nas...</td>\n",
       "      <td>Jagna Marczułajtis-Walczak</td>\n",
       "      <td>2011-12-01</td>\n",
       "    </tr>\n",
       "    <tr>\n",
       "      <th>24</th>\n",
       "      <td>kto z pani i pan poseł być za wybór pan Andrze...</td>\n",
       "      <td>Kto z pań i panów posłów jest za wyborem pana...</td>\n",
       "      <td>Ewa Kopacz</td>\n",
       "      <td>2011-12-01</td>\n",
       "    </tr>\n",
       "    <tr>\n",
       "      <th>25</th>\n",
       "      <td>pan poseł , prosić chwila poczekać . prosić pa...</td>\n",
       "      <td>Panie pośle, proszę chwilę poczekać.  Proszę ...</td>\n",
       "      <td>Cezary Grabarczyk</td>\n",
       "      <td>2011-12-01</td>\n",
       "    </tr>\n",
       "    <tr>\n",
       "      <th>26</th>\n",
       "      <td>informować , że zgłosić się poseł w cel wygłos...</td>\n",
       "      <td>Informuję, że zgłosili się posłowie w celu wy...</td>\n",
       "      <td>Ewa Kopacz</td>\n",
       "      <td>2011-12-01</td>\n",
       "    </tr>\n",
       "    <tr>\n",
       "      <th>27</th>\n",
       "      <td>w związek z solidaryzować się z klub solidarny...</td>\n",
       "      <td>W związku z solidaryzowaniem się z klubem Sol...</td>\n",
       "      <td>Janusz Palikot</td>\n",
       "      <td>2011-12-01</td>\n",
       "    </tr>\n",
       "    <tr>\n",
       "      <th>28</th>\n",
       "      <td>bardzo prosić , pan poseł . prosić o zachować ...</td>\n",
       "      <td>Bardzo proszę, panie pośle. Proszę o zachowan...</td>\n",
       "      <td>Ewa Kopacz</td>\n",
       "      <td>2011-12-01</td>\n",
       "    </tr>\n",
       "    <tr>\n",
       "      <th>29</th>\n",
       "      <td>powracać do rozpatrzyć punkt 10 . porządek dzi...</td>\n",
       "      <td>Powracamy do rozpatrzenia punktu 10.  porządk...</td>\n",
       "      <td>Ewa Kopacz</td>\n",
       "      <td>2011-11-19</td>\n",
       "    </tr>\n",
       "    <tr>\n",
       "      <th>...</th>\n",
       "      <td>...</td>\n",
       "      <td>...</td>\n",
       "      <td>...</td>\n",
       "      <td>...</td>\n",
       "    </tr>\n",
       "    <tr>\n",
       "      <th>71229</th>\n",
       "      <td>sejm ustalić , że w dyskusja nad ten punkt por...</td>\n",
       "      <td>Sejm ustalił, że w dyskusji nad tym punktem p...</td>\n",
       "      <td>Elżbieta Radziszewska</td>\n",
       "      <td>2014-11-06</td>\n",
       "    </tr>\n",
       "    <tr>\n",
       "      <th>71230</th>\n",
       "      <td>pan marszałek ! pan minister ! zadać pytanie ,...</td>\n",
       "      <td>Panie Marszałku! Panie Ministrze! Zadam pytan...</td>\n",
       "      <td>Krzysztof Szczerski</td>\n",
       "      <td>2014-11-06</td>\n",
       "    </tr>\n",
       "    <tr>\n",
       "      <th>71231</th>\n",
       "      <td>dziękować . pan marszałek ! pan minister ! czy...</td>\n",
       "      <td>Dziękuję. Panie Marszałku! Panie Ministrze! C...</td>\n",
       "      <td>Dorota Arciszewska-Mielewczyk</td>\n",
       "      <td>2014-11-06</td>\n",
       "    </tr>\n",
       "    <tr>\n",
       "      <th>71232</th>\n",
       "      <td>tak , tak . pan marszałek ! wysoki izba ! chci...</td>\n",
       "      <td>Tak, tak. Panie Marszałku! Wysoka Izbo! Chcia...</td>\n",
       "      <td>Bogdan Rzońca</td>\n",
       "      <td>2014-11-06</td>\n",
       "    </tr>\n",
       "    <tr>\n",
       "      <th>71233</th>\n",
       "      <td>dziękować pani poseł Marczułajtis . pan poseł ...</td>\n",
       "      <td>Dziękuję pani poseł Marczułajtis. Pan poseł P...</td>\n",
       "      <td>Eugeniusz Tomasz Grzeszczak</td>\n",
       "      <td>2014-11-06</td>\n",
       "    </tr>\n",
       "    <tr>\n",
       "      <th>71234</th>\n",
       "      <td>dziękować bardzo , pan poseł . sejm ustalić , ...</td>\n",
       "      <td>Dziękuję bardzo, panie pośle. Sejm ustalił, ż...</td>\n",
       "      <td>Wanda Nowicka</td>\n",
       "      <td>2014-11-06</td>\n",
       "    </tr>\n",
       "    <tr>\n",
       "      <th>71235</th>\n",
       "      <td>dziękować , pan poseł . czy być pan poseł Siar...</td>\n",
       "      <td>Dziękuję, panie pośle. Czy jest pan poseł Sia...</td>\n",
       "      <td>Wanda Nowicka</td>\n",
       "      <td>2014-11-06</td>\n",
       "    </tr>\n",
       "    <tr>\n",
       "      <th>71236</th>\n",
       "      <td>przystępować do rozpatrzyć punkt 19 . porządek...</td>\n",
       "      <td>Przystępujemy do rozpatrzenia punktu 19. porz...</td>\n",
       "      <td>Wanda Nowicka</td>\n",
       "      <td>2014-11-06</td>\n",
       "    </tr>\n",
       "    <tr>\n",
       "      <th>71237</th>\n",
       "      <td>i ten pytanie zakończyć pan swój wystąpienie ....</td>\n",
       "      <td>I tym pytaniem zakończył pan swoje wystąpieni...</td>\n",
       "      <td>Eugeniusz Tomasz Grzeszczak</td>\n",
       "      <td>2014-11-06</td>\n",
       "    </tr>\n",
       "    <tr>\n",
       "      <th>71238</th>\n",
       "      <td>dziękować . pani Marszałkini ! wysoki izba ! w...</td>\n",
       "      <td>Dziękuję. Pani Marszałkini! Wysoka Izbo! W im...</td>\n",
       "      <td>Piotr Chmielowski</td>\n",
       "      <td>2014-11-06</td>\n",
       "    </tr>\n",
       "    <tr>\n",
       "      <th>71239</th>\n",
       "      <td>szanowny pani Marszałkini ! wysoki izba ! chci...</td>\n",
       "      <td>Szanowna Pani Marszałkini! Wysoka Izbo! Chcia...</td>\n",
       "      <td>Henryk Kmiecik</td>\n",
       "      <td>2014-11-06</td>\n",
       "    </tr>\n",
       "    <tr>\n",
       "      <th>71240</th>\n",
       "      <td>dziękować bardzo . pani marszałek ! wysoki izb...</td>\n",
       "      <td>Dziękuję bardzo. Pani Marszałek! Wysoka Izbo!...</td>\n",
       "      <td>Romuald Ajchler</td>\n",
       "      <td>2014-11-06</td>\n",
       "    </tr>\n",
       "    <tr>\n",
       "      <th>71241</th>\n",
       "      <td>dziękować , pan poseł . głos zabrać pan poseł ...</td>\n",
       "      <td>Dziękuję, panie pośle. Głos zabierze pan pose...</td>\n",
       "      <td>Wanda Nowicka</td>\n",
       "      <td>2014-11-06</td>\n",
       "    </tr>\n",
       "    <tr>\n",
       "      <th>71242</th>\n",
       "      <td>pan marszałek ! wysoki izba ! pan minister ! c...</td>\n",
       "      <td>Panie Marszałku! Wysoka Izbo! Panie Ministrze...</td>\n",
       "      <td>Stefan Niesiołowski</td>\n",
       "      <td>2014-11-06</td>\n",
       "    </tr>\n",
       "    <tr>\n",
       "      <th>71243</th>\n",
       "      <td>pan marszałek ! wysoki izba ! pan minister ! c...</td>\n",
       "      <td>Panie Marszałku! Wysoka Izbo! Panie Ministrze...</td>\n",
       "      <td>Elżbieta Witek</td>\n",
       "      <td>2014-11-06</td>\n",
       "    </tr>\n",
       "    <tr>\n",
       "      <th>71244</th>\n",
       "      <td>pan marszałek ! pan minister ! oczywiście zast...</td>\n",
       "      <td>Panie Marszałku! Panie Ministrze! Oczywiście ...</td>\n",
       "      <td>Franciszek Jerzy Stefaniuk</td>\n",
       "      <td>2014-11-06</td>\n",
       "    </tr>\n",
       "    <tr>\n",
       "      <th>71245</th>\n",
       "      <td>i ja dziękować . pan poseł Piotr Król , prawo ...</td>\n",
       "      <td>I ja dziękuję. Pan poseł Piotr Król, Prawo i ...</td>\n",
       "      <td>Jerzy Wenderlich</td>\n",
       "      <td>2014-11-06</td>\n",
       "    </tr>\n",
       "    <tr>\n",
       "      <th>71246</th>\n",
       "      <td>dziękować , pan marszałek , za umożliwić jeszc...</td>\n",
       "      <td>Dziękuję, panie marszałku, za umożliwienie je...</td>\n",
       "      <td>Jerzy Żyżyński</td>\n",
       "      <td>2014-11-06</td>\n",
       "    </tr>\n",
       "    <tr>\n",
       "      <th>71247</th>\n",
       "      <td>dziękować bardzo . pani poseł Anna Elżbieta So...</td>\n",
       "      <td>Dziękuję bardzo. Pani poseł Anna Elżbieta Sob...</td>\n",
       "      <td>Jerzy Wenderlich</td>\n",
       "      <td>2014-11-06</td>\n",
       "    </tr>\n",
       "    <tr>\n",
       "      <th>71248</th>\n",
       "      <td>dziękować . pan marszałek ! wysoki izba ! praw...</td>\n",
       "      <td>Dziękuję. Panie Marszałku! Wysoka Izbo! Prawa...</td>\n",
       "      <td>Piotr Łukasz Babiarz</td>\n",
       "      <td>2014-11-06</td>\n",
       "    </tr>\n",
       "    <tr>\n",
       "      <th>71249</th>\n",
       "      <td>pan marszałek ! pan minister ! wysoki izba ! t...</td>\n",
       "      <td>Panie Marszałku! Panie Ministrze! Wysoka Izbo...</td>\n",
       "      <td>Tomasz Piotr Nowak</td>\n",
       "      <td>2014-11-06</td>\n",
       "    </tr>\n",
       "    <tr>\n",
       "      <th>71250</th>\n",
       "      <td>pan marszałek ! wysoki izba ! ja nie chcieć kw...</td>\n",
       "      <td>Panie Marszałku! Wysoka Izbo! Ja nie chcę kwe...</td>\n",
       "      <td>Zbyszek Zaborowski</td>\n",
       "      <td>2014-11-06</td>\n",
       "    </tr>\n",
       "    <tr>\n",
       "      <th>71251</th>\n",
       "      <td>dziękować pan minister Orłowski . wypowiedź pa...</td>\n",
       "      <td>Dziękuję panu ministrowi Orłowskiemu. Wypowie...</td>\n",
       "      <td>Jerzy Wenderlich</td>\n",
       "      <td>2014-11-06</td>\n",
       "    </tr>\n",
       "    <tr>\n",
       "      <th>71252</th>\n",
       "      <td>pan marszałek ! pan minister ! wysoki izba ! p...</td>\n",
       "      <td>Panie Marszałku! Panie Ministrze! Wysoka Izbo...</td>\n",
       "      <td>Piotr Łukasz Babiarz</td>\n",
       "      <td>2014-11-06</td>\n",
       "    </tr>\n",
       "    <tr>\n",
       "      <th>71253</th>\n",
       "      <td>pan marszałek ! pan minister ! wysoki izba ! p...</td>\n",
       "      <td>Panie Marszałku! Panie Ministrze! Wysoka Izbo...</td>\n",
       "      <td>Krzysztof Gadowski</td>\n",
       "      <td>2014-11-06</td>\n",
       "    </tr>\n",
       "    <tr>\n",
       "      <th>71254</th>\n",
       "      <td>pan poseł Krzysztof Gadowski , platforma .</td>\n",
       "      <td>Pan poseł Krzysztof Gadowski, Platforma.</td>\n",
       "      <td>Jerzy Wenderlich</td>\n",
       "      <td>2014-11-06</td>\n",
       "    </tr>\n",
       "    <tr>\n",
       "      <th>71255</th>\n",
       "      <td>dziękować . pani poseł Gabriela Masłowska , pr...</td>\n",
       "      <td>Dziękuję. Pani poseł Gabriela Masłowska, Praw...</td>\n",
       "      <td>Jerzy Wenderlich</td>\n",
       "      <td>2014-11-06</td>\n",
       "    </tr>\n",
       "    <tr>\n",
       "      <th>71256</th>\n",
       "      <td>bardzo dziękować , pani poseł . bardzo prosić ...</td>\n",
       "      <td>Bardzo dziękuję, pani poseł. Bardzo proszę pa...</td>\n",
       "      <td>Elżbieta Radziszewska</td>\n",
       "      <td>2014-11-06</td>\n",
       "    </tr>\n",
       "    <tr>\n",
       "      <th>71257</th>\n",
       "      <td>dziękować bardzo , pan poseł . to być ostatni ...</td>\n",
       "      <td>Dziękuję bardzo, panie pośle. To było ostatni...</td>\n",
       "      <td>Wanda Nowicka</td>\n",
       "      <td>2014-11-06</td>\n",
       "    </tr>\n",
       "    <tr>\n",
       "      <th>71258</th>\n",
       "      <td>pani marszałek ! pan senator ! wysoki sejm ! k...</td>\n",
       "      <td>Pani Marszałek! Panie Senatorze! Wysoki Sejmi...</td>\n",
       "      <td>Józef Zych</td>\n",
       "      <td>2014-11-06</td>\n",
       "    </tr>\n",
       "  </tbody>\n",
       "</table>\n",
       "<p>71259 rows × 4 columns</p>\n",
       "</div>"
      ],
      "text/plain": [
       "                                                   lemma  \\\n",
       "0      przystępować do rozpatrzyć punkt 16 . porządek...   \n",
       "1      kto z pani i pan poseł być za przyjąć wniosek ...   \n",
       "2      przystępować do rozpatrzyć punkt 15 . porządek...   \n",
       "3      dziękować bardzo , pan poseł . czy ktoś z pani...   \n",
       "4      przystępować do rozpatrzyć punkt 17 . porządek...   \n",
       "5      dziękować pan poseł . głos mieć pan poseł Tade...   \n",
       "6      pani marszałek ! wysoki izba ! w związek z fak...   \n",
       "7      dziękować bardzo . pani marszałek ! pani i pan...   \n",
       "8      dziękować pan poseł . głos mieć pan poseł Tade...   \n",
       "9      dziękować pan poseł . zakończyć być oświadczen...   \n",
       "10     pani marszałek ! wysoki sejm ! chcieć by być s...   \n",
       "11     dziękować bardzo . odnosić się do obydwa wnios...   \n",
       "12     pan przewodniczący , informować , że przed chw...   \n",
       "13     wznawiać posiedzenie . pani posłanka i pan pos...   \n",
       "14     kto z pani i pan poseł być za przyjąć wniosek ...   \n",
       "15     dziękować bardzo . pan przewodniczący Palikot ...   \n",
       "16     pani marszałek ! wysoki izba ! mieć prośba do ...   \n",
       "17     pan marszałek ! wysoki izba ! mój oświadczenie...   \n",
       "18     pan marszałek ! pani i pan poseł ! w 2013 rok ...   \n",
       "19     pan marszałek ! wysoki sejm ! mój oświadczenie...   \n",
       "20     ruch Palikota zgłaszać wniosek formalny o 10 -...   \n",
       "21     dziękować , pan poseł . prosić o cisza . bardz...   \n",
       "22     dziękować bardzo . prezydium sejm przedstawić ...   \n",
       "23     w dzień dzisiejszy odbyć się posiedzenie nastę...   \n",
       "24     kto z pani i pan poseł być za wybór pan Andrze...   \n",
       "25     pan poseł , prosić chwila poczekać . prosić pa...   \n",
       "26     informować , że zgłosić się poseł w cel wygłos...   \n",
       "27     w związek z solidaryzować się z klub solidarny...   \n",
       "28     bardzo prosić , pan poseł . prosić o zachować ...   \n",
       "29     powracać do rozpatrzyć punkt 10 . porządek dzi...   \n",
       "...                                                  ...   \n",
       "71229  sejm ustalić , że w dyskusja nad ten punkt por...   \n",
       "71230  pan marszałek ! pan minister ! zadać pytanie ,...   \n",
       "71231  dziękować . pan marszałek ! pan minister ! czy...   \n",
       "71232  tak , tak . pan marszałek ! wysoki izba ! chci...   \n",
       "71233  dziękować pani poseł Marczułajtis . pan poseł ...   \n",
       "71234  dziękować bardzo , pan poseł . sejm ustalić , ...   \n",
       "71235  dziękować , pan poseł . czy być pan poseł Siar...   \n",
       "71236  przystępować do rozpatrzyć punkt 19 . porządek...   \n",
       "71237  i ten pytanie zakończyć pan swój wystąpienie ....   \n",
       "71238  dziękować . pani Marszałkini ! wysoki izba ! w...   \n",
       "71239  szanowny pani Marszałkini ! wysoki izba ! chci...   \n",
       "71240  dziękować bardzo . pani marszałek ! wysoki izb...   \n",
       "71241  dziękować , pan poseł . głos zabrać pan poseł ...   \n",
       "71242  pan marszałek ! wysoki izba ! pan minister ! c...   \n",
       "71243  pan marszałek ! wysoki izba ! pan minister ! c...   \n",
       "71244  pan marszałek ! pan minister ! oczywiście zast...   \n",
       "71245  i ja dziękować . pan poseł Piotr Król , prawo ...   \n",
       "71246  dziękować , pan marszałek , za umożliwić jeszc...   \n",
       "71247  dziękować bardzo . pani poseł Anna Elżbieta So...   \n",
       "71248  dziękować . pan marszałek ! wysoki izba ! praw...   \n",
       "71249  pan marszałek ! pan minister ! wysoki izba ! t...   \n",
       "71250  pan marszałek ! wysoki izba ! ja nie chcieć kw...   \n",
       "71251  dziękować pan minister Orłowski . wypowiedź pa...   \n",
       "71252  pan marszałek ! pan minister ! wysoki izba ! p...   \n",
       "71253  pan marszałek ! pan minister ! wysoki izba ! p...   \n",
       "71254         pan poseł Krzysztof Gadowski , platforma .   \n",
       "71255  dziękować . pani poseł Gabriela Masłowska , pr...   \n",
       "71256  bardzo dziękować , pani poseł . bardzo prosić ...   \n",
       "71257  dziękować bardzo , pan poseł . to być ostatni ...   \n",
       "71258  pani marszałek ! pan senator ! wysoki sejm ! k...   \n",
       "\n",
       "                                                    text  \\\n",
       "0       Przystępujemy do rozpatrzenia punktu 16.  por...   \n",
       "1       Kto z pań i panów posłów jest za przyjęciem w...   \n",
       "2       Przystępujemy do rozpatrzenia punktu 15.  por...   \n",
       "3       Dziękuję bardzo, panie pośle.  Czy ktoś z pań...   \n",
       "4       Przystępujemy do rozpatrzenia punktu 17.  por...   \n",
       "5       Dziękuję panu posłowi.  Głos ma pan poseł Tad...   \n",
       "6       Pani Marszałek!  Wysoka Izbo!  W związku z fa...   \n",
       "7       Dziękuję bardzo.  Pani Marszałek!  Panie i Pa...   \n",
       "8       Dziękuję panu posłowi.  Głos ma pan poseł Tad...   \n",
       "9       Dziękuję panu posłowi.  Zakończyliśmy oświadc...   \n",
       "10      Pani Marszałek!  Wysoki Sejmie!  Chciałbym si...   \n",
       "11      Dziękuję bardzo.  Odnoszę się do obydwu wnios...   \n",
       "12      Panie przewodniczący, informuję, że przed chw...   \n",
       "13      Wznawiam posiedzenie. Panie posłanki i panów ...   \n",
       "14      Kto z pań i panów posłów jest za przyjęciem w...   \n",
       "15      Dziękuję bardzo.  Pan przewodniczący Palikot....   \n",
       "16      Pani Marszałek!  Wysoka Izbo!  Mam prośbę do ...   \n",
       "17      Panie Marszałku!  Wysoka Izbo!  Moje oświadcz...   \n",
       "18      Panie Marszałku!  Panie i Panowie Posłowie!  ...   \n",
       "19      Panie Marszałku!  Wysoki Sejmie!  Moje oświad...   \n",
       "20      Ruch Palikota zgłasza wniosek formalny o 10-m...   \n",
       "21      Dziękuję, panie pośle. Proszę o ciszę.  Bardz...   \n",
       "22      Dziękuję bardzo.  Prezydium Sejmu przedstawił...   \n",
       "23      W dniu dzisiejszym odbędą się posiedzenia nas...   \n",
       "24      Kto z pań i panów posłów jest za wyborem pana...   \n",
       "25      Panie pośle, proszę chwilę poczekać.  Proszę ...   \n",
       "26      Informuję, że zgłosili się posłowie w celu wy...   \n",
       "27      W związku z solidaryzowaniem się z klubem Sol...   \n",
       "28      Bardzo proszę, panie pośle. Proszę o zachowan...   \n",
       "29      Powracamy do rozpatrzenia punktu 10.  porządk...   \n",
       "...                                                  ...   \n",
       "71229   Sejm ustalił, że w dyskusji nad tym punktem p...   \n",
       "71230   Panie Marszałku! Panie Ministrze! Zadam pytan...   \n",
       "71231   Dziękuję. Panie Marszałku! Panie Ministrze! C...   \n",
       "71232   Tak, tak. Panie Marszałku! Wysoka Izbo! Chcia...   \n",
       "71233   Dziękuję pani poseł Marczułajtis. Pan poseł P...   \n",
       "71234   Dziękuję bardzo, panie pośle. Sejm ustalił, ż...   \n",
       "71235   Dziękuję, panie pośle. Czy jest pan poseł Sia...   \n",
       "71236   Przystępujemy do rozpatrzenia punktu 19. porz...   \n",
       "71237   I tym pytaniem zakończył pan swoje wystąpieni...   \n",
       "71238   Dziękuję. Pani Marszałkini! Wysoka Izbo! W im...   \n",
       "71239   Szanowna Pani Marszałkini! Wysoka Izbo! Chcia...   \n",
       "71240   Dziękuję bardzo. Pani Marszałek! Wysoka Izbo!...   \n",
       "71241   Dziękuję, panie pośle. Głos zabierze pan pose...   \n",
       "71242   Panie Marszałku! Wysoka Izbo! Panie Ministrze...   \n",
       "71243   Panie Marszałku! Wysoka Izbo! Panie Ministrze...   \n",
       "71244   Panie Marszałku! Panie Ministrze! Oczywiście ...   \n",
       "71245   I ja dziękuję. Pan poseł Piotr Król, Prawo i ...   \n",
       "71246   Dziękuję, panie marszałku, za umożliwienie je...   \n",
       "71247   Dziękuję bardzo. Pani poseł Anna Elżbieta Sob...   \n",
       "71248   Dziękuję. Panie Marszałku! Wysoka Izbo! Prawa...   \n",
       "71249   Panie Marszałku! Panie Ministrze! Wysoka Izbo...   \n",
       "71250   Panie Marszałku! Wysoka Izbo! Ja nie chcę kwe...   \n",
       "71251   Dziękuję panu ministrowi Orłowskiemu. Wypowie...   \n",
       "71252   Panie Marszałku! Panie Ministrze! Wysoka Izbo...   \n",
       "71253   Panie Marszałku! Panie Ministrze! Wysoka Izbo...   \n",
       "71254           Pan poseł Krzysztof Gadowski, Platforma.   \n",
       "71255   Dziękuję. Pani poseł Gabriela Masłowska, Praw...   \n",
       "71256   Bardzo dziękuję, pani poseł. Bardzo proszę pa...   \n",
       "71257   Dziękuję bardzo, panie pośle. To było ostatni...   \n",
       "71258   Pani Marszałek! Panie Senatorze! Wysoki Sejmi...   \n",
       "\n",
       "                                name        date  \n",
       "0                         Ewa Kopacz  2011-12-01  \n",
       "1                         Ewa Kopacz  2011-12-01  \n",
       "2                         Ewa Kopacz  2011-12-01  \n",
       "3                         Ewa Kopacz  2011-12-01  \n",
       "4                         Ewa Kopacz  2011-12-01  \n",
       "5                  Cezary Grabarczyk  2011-12-01  \n",
       "6                Arkadiusz Mularczyk  2011-12-01  \n",
       "7               Stanisław Piotrowicz  2011-12-01  \n",
       "8                  Cezary Grabarczyk  2011-12-01  \n",
       "9                  Cezary Grabarczyk  2011-12-01  \n",
       "10                 Marek Matuszewski  2011-12-01  \n",
       "11                        Ewa Kopacz  2011-12-01  \n",
       "12                        Ewa Kopacz  2011-12-01  \n",
       "13                        Ewa Kopacz  2011-12-01  \n",
       "14                        Ewa Kopacz  2011-12-01  \n",
       "15                        Ewa Kopacz  2011-12-01  \n",
       "16                Jarosław Kaczyński  2011-12-01  \n",
       "17                     Tadeusz Arkit  2011-12-01  \n",
       "18                      Jerzy Ziętek  2011-12-01  \n",
       "19               Tadeusz Tomaszewski  2011-12-01  \n",
       "20                      Artur Dębski  2011-12-01  \n",
       "21                        Ewa Kopacz  2011-12-01  \n",
       "22                        Ewa Kopacz  2011-12-01  \n",
       "23        Jagna Marczułajtis-Walczak  2011-12-01  \n",
       "24                        Ewa Kopacz  2011-12-01  \n",
       "25                 Cezary Grabarczyk  2011-12-01  \n",
       "26                        Ewa Kopacz  2011-12-01  \n",
       "27                    Janusz Palikot  2011-12-01  \n",
       "28                        Ewa Kopacz  2011-12-01  \n",
       "29                        Ewa Kopacz  2011-11-19  \n",
       "...                              ...         ...  \n",
       "71229          Elżbieta Radziszewska  2014-11-06  \n",
       "71230            Krzysztof Szczerski  2014-11-06  \n",
       "71231  Dorota Arciszewska-Mielewczyk  2014-11-06  \n",
       "71232                  Bogdan Rzońca  2014-11-06  \n",
       "71233    Eugeniusz Tomasz Grzeszczak  2014-11-06  \n",
       "71234                  Wanda Nowicka  2014-11-06  \n",
       "71235                  Wanda Nowicka  2014-11-06  \n",
       "71236                  Wanda Nowicka  2014-11-06  \n",
       "71237    Eugeniusz Tomasz Grzeszczak  2014-11-06  \n",
       "71238              Piotr Chmielowski  2014-11-06  \n",
       "71239                 Henryk Kmiecik  2014-11-06  \n",
       "71240                Romuald Ajchler  2014-11-06  \n",
       "71241                  Wanda Nowicka  2014-11-06  \n",
       "71242            Stefan Niesiołowski  2014-11-06  \n",
       "71243                 Elżbieta Witek  2014-11-06  \n",
       "71244     Franciszek Jerzy Stefaniuk  2014-11-06  \n",
       "71245               Jerzy Wenderlich  2014-11-06  \n",
       "71246                 Jerzy Żyżyński  2014-11-06  \n",
       "71247               Jerzy Wenderlich  2014-11-06  \n",
       "71248           Piotr Łukasz Babiarz  2014-11-06  \n",
       "71249             Tomasz Piotr Nowak  2014-11-06  \n",
       "71250             Zbyszek Zaborowski  2014-11-06  \n",
       "71251               Jerzy Wenderlich  2014-11-06  \n",
       "71252           Piotr Łukasz Babiarz  2014-11-06  \n",
       "71253             Krzysztof Gadowski  2014-11-06  \n",
       "71254               Jerzy Wenderlich  2014-11-06  \n",
       "71255               Jerzy Wenderlich  2014-11-06  \n",
       "71256          Elżbieta Radziszewska  2014-11-06  \n",
       "71257                  Wanda Nowicka  2014-11-06  \n",
       "71258                     Józef Zych  2014-11-06  \n",
       "\n",
       "[71259 rows x 4 columns]"
      ]
     },
     "execution_count": 5,
     "metadata": {},
     "output_type": "execute_result"
    }
   ],
   "source": [
    "sejm"
   ]
  },
  {
   "cell_type": "code",
   "execution_count": 6,
   "metadata": {},
   "outputs": [
    {
     "data": {
      "text/plain": [
       "name\n",
       "Ewa Kopacz                     8057\n",
       "Wanda Nowicka                  6558\n",
       "Eugeniusz Tomasz Grzeszczak    6175\n",
       "Jerzy Wenderlich               6030\n",
       "Cezary Grabarczyk              5928\n",
       "Marek Kuchciński               5738\n",
       "Romuald Ajchler                 573\n",
       "Radosław Sikorski               547\n",
       "Piotr Szeliga                   485\n",
       "Ryszard Zbrzyzny                415\n",
       "Name: text, dtype: int64"
      ]
     },
     "execution_count": 6,
     "metadata": {},
     "output_type": "execute_result"
    }
   ],
   "source": [
    "sejm.groupby('name')['text'].\\\n",
    "    apply(lambda x: len(x)).\\\n",
    "    sort_values().nlargest(10)"
   ]
  },
  {
   "cell_type": "code",
   "execution_count": 7,
   "metadata": {},
   "outputs": [
    {
     "data": {
      "text/plain": [
       "name\n",
       "Piotr Król                     1\n",
       "Krzysztof Sońta                1\n",
       "Andrzej Smirnow                1\n",
       "Teresa Świło                   1\n",
       "Ewa Czeszejko-Sochacka         1\n",
       "Łukasz Tusk                    1\n",
       "Elżbieta Królikowska-Kińska    1\n",
       "Aleksander Sosna               1\n",
       "Robert Jagła                   1\n",
       "Aldona Młyńczak                1\n",
       "Name: text, dtype: int64"
      ]
     },
     "execution_count": 7,
     "metadata": {},
     "output_type": "execute_result"
    }
   ],
   "source": [
    "sejm.groupby('name')['text'].\\\n",
    "    apply(lambda x: len(x)).\\\n",
    "    sort_values().nsmallest(10)"
   ]
  },
  {
   "cell_type": "code",
   "execution_count": 8,
   "metadata": {},
   "outputs": [],
   "source": [
    "filtered = sejm.groupby('name')['text'].\\\n",
    "    filter(lambda x: len(x) >= 10)\n",
    "sejm = sejm[sejm['text'].isin(filtered)]"
   ]
  },
  {
   "cell_type": "code",
   "execution_count": 9,
   "metadata": {},
   "outputs": [
    {
     "data": {
      "text/plain": [
       "name\n",
       "Wojciech Rafał Wiewiórowski    20848.833333\n",
       "Marek Michalak                 15007.142857\n",
       "Donald Tusk                    14992.770833\n",
       "Olgierd Dziekoński             12197.333333\n",
       "Sławomir Nowak                  9996.300000\n",
       "Władysław Kosiniak-Kamysz       9174.230769\n",
       "Piotr Serafin                   8612.800000\n",
       "Tomasz Siemoniak                8471.545455\n",
       "Jarosław Gowin                  7785.571429\n",
       "Jarosław Kaczyński              7489.142857\n",
       "Name: text, dtype: float64"
      ]
     },
     "execution_count": 9,
     "metadata": {},
     "output_type": "execute_result"
    }
   ],
   "source": [
    "sejm.groupby('name')['text'].\\\n",
    "    apply(lambda x : np.mean(x.str.len())).\\\n",
    "    sort_values(ascending=False).nlargest(10)"
   ]
  },
  {
   "cell_type": "code",
   "execution_count": 11,
   "metadata": {},
   "outputs": [
    {
     "data": {
      "text/plain": [
       "'przystępować do rozpatrzyć punkt 16 . porządek dzienny : zmiana w skład osobowy komisja sejmowy . prezydium sejm na podstawa artykuł . 20 ustęp . 1 i artykuł . 148a ustęp . 12 regulamin sejm , po zasięgnąć opinia konwent senior , przedłożyć wniosek w sprawa zmiana w skład osobowy komisja sejmowy . czy ktoś z pani i pan poseł pragnąć zabrać głos w sprawa przedstawić propozycja ? nie widzieć . nikt się nie zgłaszać . przystępować zatem do głosować .'"
      ]
     },
     "execution_count": 11,
     "metadata": {},
     "output_type": "execute_result"
    }
   ],
   "source": [
    "sejm['lemma'][0]"
   ]
  },
  {
   "cell_type": "markdown",
   "metadata": {},
   "source": [
    "## What did PIS and PO talk about?"
   ]
  },
  {
   "cell_type": "code",
   "execution_count": 12,
   "metadata": {},
   "outputs": [],
   "source": [
    "sejm_dict = pd.read_csv('../data/sejm7.csv', \n",
    "                        delimiter=';', \n",
    "                        header=None, \n",
    "                        usecols=[0, 3])\n",
    "\n",
    "sejm_dict.columns = ['name', 'party']"
   ]
  },
  {
   "cell_type": "code",
   "execution_count": 13,
   "metadata": {},
   "outputs": [
    {
     "data": {
      "text/html": [
       "<div>\n",
       "<style scoped>\n",
       "    .dataframe tbody tr th:only-of-type {\n",
       "        vertical-align: middle;\n",
       "    }\n",
       "\n",
       "    .dataframe tbody tr th {\n",
       "        vertical-align: top;\n",
       "    }\n",
       "\n",
       "    .dataframe thead th {\n",
       "        text-align: right;\n",
       "    }\n",
       "</style>\n",
       "<table border=\"1\" class=\"dataframe\">\n",
       "  <thead>\n",
       "    <tr style=\"text-align: right;\">\n",
       "      <th></th>\n",
       "      <th>name</th>\n",
       "      <th>party</th>\n",
       "    </tr>\n",
       "  </thead>\n",
       "  <tbody>\n",
       "    <tr>\n",
       "      <th>0</th>\n",
       "      <td>Adam Abramowicz</td>\n",
       "      <td>PiS</td>\n",
       "    </tr>\n",
       "    <tr>\n",
       "      <th>1</th>\n",
       "      <td>Małgorzata Adamczak</td>\n",
       "      <td>PO</td>\n",
       "    </tr>\n",
       "    <tr>\n",
       "      <th>2</th>\n",
       "      <td>Andrzej Adamczyk</td>\n",
       "      <td>PiS</td>\n",
       "    </tr>\n",
       "    <tr>\n",
       "      <th>3</th>\n",
       "      <td>Romuald Ajchler</td>\n",
       "      <td>SLD</td>\n",
       "    </tr>\n",
       "    <tr>\n",
       "      <th>4</th>\n",
       "      <td>Leszek Aleksandrzak</td>\n",
       "      <td>SLD</td>\n",
       "    </tr>\n",
       "  </tbody>\n",
       "</table>\n",
       "</div>"
      ],
      "text/plain": [
       "                  name party\n",
       "0      Adam Abramowicz   PiS\n",
       "1  Małgorzata Adamczak    PO\n",
       "2     Andrzej Adamczyk   PiS\n",
       "3      Romuald Ajchler   SLD\n",
       "4  Leszek Aleksandrzak   SLD"
      ]
     },
     "execution_count": 13,
     "metadata": {},
     "output_type": "execute_result"
    }
   ],
   "source": [
    "sejm_dict = sejm_dict.drop_duplicates(subset='name')\n",
    "# we ignore the fact that party can be changed throughout a cadency\n",
    "sejm_dict.head()"
   ]
  },
  {
   "cell_type": "code",
   "execution_count": 14,
   "metadata": {},
   "outputs": [
    {
     "data": {
      "text/plain": [
       "PO       22461\n",
       "PiS      15305\n",
       "RP        9864\n",
       "SLD       9697\n",
       "PSL       8347\n",
       "SP        2773\n",
       "niez.       28\n",
       "Name: party, dtype: int64"
      ]
     },
     "execution_count": 14,
     "metadata": {},
     "output_type": "execute_result"
    }
   ],
   "source": [
    "sejm = sejm.merge(sejm_dict, how='left')\n",
    "sejm['party'].value_counts()"
   ]
  },
  {
   "cell_type": "code",
   "execution_count": 15,
   "metadata": {},
   "outputs": [],
   "source": [
    "filtered_rows = (sejm['party'].isin(['PO', 'PiS'])) & (sejm['party'].notnull())\n",
    "sejm = sejm[filtered_rows]\n",
    "sejm = sejm.reset_index()"
   ]
  },
  {
   "cell_type": "markdown",
   "metadata": {},
   "source": [
    "## Lemmas\n",
    "\n",
    "We have already prepared lemmatized version of speeches (for lemmatization we used [KNNRT](../notebooks/0_krnnt_examples.ipynb), but you can also try [Morfeusz](../notebooks/0_morfeusz_examples.ipynb))."
   ]
  },
  {
   "cell_type": "code",
   "execution_count": 14,
   "metadata": {},
   "outputs": [
    {
     "data": {
      "text/plain": [
       "array(['przystępować do rozpatrzyć punkt 16 . porządek dzienny : zmiana w skład osobowy komisja sejmowy . prezydium sejm na podstawa artykuł . 20 ustęp . 1 i artykuł . 148a ustęp . 12 regulamin sejm , po zasięgnąć opinia konwent senior , przedłożyć wniosek w sprawa zmiana w skład osobowy komisja sejmowy . czy ktoś z pani i pan poseł pragnąć zabrać głos w sprawa przedstawić propozycja ? nie widzieć . nikt się nie zgłaszać . przystępować zatem do głosować .',\n",
       "       'kto z pani i pan poseł być za przyjąć wniosek prezydium sejm w sprawa wybór skład osobowy komisja do sprawa służba specjalny , w brzmienie proponować w druk numer 15 , zechcieć podnieść ręka i nacisnąć przycisk . kto być przeciw ? kto się wstrzymać ? głosować 435 poseł . za oddać swój głos 381 poseł , przeciw – 53 poseł , 1 poseł wstrzymać się od głos . stwierdzać , że sejm dokonać wybór skład osobowy komisja do sprawa służba specjalny . na to wyczerpać być porządek dzienny 1 . posiedzenie sejm Rzeczpospolita polski .'],\n",
       "      dtype=object)"
      ]
     },
     "execution_count": 14,
     "metadata": {},
     "output_type": "execute_result"
    }
   ],
   "source": [
    "np.array(sejm['lemma'])[:2]"
   ]
  },
  {
   "cell_type": "markdown",
   "metadata": {},
   "source": [
    "## Initial cleaning\n",
    "\n",
    "We will replace all numerics with a `NUM` string."
   ]
  },
  {
   "cell_type": "code",
   "execution_count": 16,
   "metadata": {},
   "outputs": [],
   "source": [
    "sejm['lemma'] = np.array(sejm['lemma'].replace(' \\d+ ', ' NUM ', regex=True))"
   ]
  },
  {
   "cell_type": "code",
   "execution_count": 17,
   "metadata": {},
   "outputs": [
    {
     "data": {
      "text/plain": [
       "'przystępować do rozpatrzyć punkt NUM . porządek dzienny : zmiana w skład osobowy komisja sejmowy . prezydium sejm na podstawa artykuł . NUM ustęp . NUM i artykuł . 148a ustęp . NUM regulamin sejm , po zasięgnąć opinia konwent senior , przedłożyć wniosek w sprawa zmiana w skład osobowy komisja sejmowy . czy ktoś z pani i pan poseł pragnąć zabrać głos w sprawa przedstawić propozycja ? nie widzieć . nikt się nie zgłaszać . przystępować zatem do głosować .'"
      ]
     },
     "execution_count": 17,
     "metadata": {},
     "output_type": "execute_result"
    }
   ],
   "source": [
    "sejm['lemma'][0]"
   ]
  },
  {
   "cell_type": "markdown",
   "metadata": {},
   "source": [
    "### Quick look at stopwords\n",
    "\n",
    "Term *stopwords* usually refers to the most common words in a language, however, there is no single universal list of stop words. In our example we may consider adding different words to the stopwords list, e.g. *marszałek* (all speeches are addressed *marszałek*), or removing words, e.g. *po* (as it has different meaning).\n",
    "\n",
    "They usually bring little meaning."
   ]
  },
  {
   "cell_type": "code",
   "execution_count": 18,
   "metadata": {},
   "outputs": [
    {
     "data": {
      "text/plain": [
       "['a', 'aby', 'ach', 'acz', 'aczkolwiek', 'aj', 'albo', 'ale', 'alez', 'ależ']"
      ]
     },
     "execution_count": 18,
     "metadata": {},
     "output_type": "execute_result"
    }
   ],
   "source": [
    "with open('../data/polish.stopwords.txt', 'r') as f:\n",
    "    stopwords = f.readlines()\n",
    "stopwords = [x.strip('\\n') for x in stopwords]\n",
    "stopwords[:10]"
   ]
  },
  {
   "cell_type": "code",
   "execution_count": 19,
   "metadata": {},
   "outputs": [
    {
     "data": {
      "text/plain": [
       "True"
      ]
     },
     "execution_count": 19,
     "metadata": {},
     "output_type": "execute_result"
    }
   ],
   "source": [
    "np.any([x == 'po' for x in stopwords])"
   ]
  },
  {
   "cell_type": "code",
   "execution_count": 20,
   "metadata": {},
   "outputs": [],
   "source": [
    "stopwords.remove('po')"
   ]
  },
  {
   "cell_type": "markdown",
   "metadata": {},
   "source": [
    "`sklearn`'s `CountVectorizer` automatically removes stopwords."
   ]
  },
  {
   "cell_type": "markdown",
   "metadata": {},
   "source": [
    "## LDA in sklearn"
   ]
  },
  {
   "cell_type": "code",
   "execution_count": 21,
   "metadata": {},
   "outputs": [],
   "source": [
    "from sklearn.feature_extraction.text import CountVectorizer"
   ]
  },
  {
   "cell_type": "code",
   "execution_count": 22,
   "metadata": {},
   "outputs": [],
   "source": [
    "cv = CountVectorizer(min_df=0.01, \n",
    "                     max_df=0.3, \n",
    "                     stop_words=stopwords)"
   ]
  },
  {
   "cell_type": "code",
   "execution_count": 23,
   "metadata": {},
   "outputs": [
    {
     "data": {
      "text/plain": [
       "<37766x1320 sparse matrix of type '<class 'numpy.int64'>'\n",
       "\twith 1690664 stored elements in Compressed Sparse Row format>"
      ]
     },
     "execution_count": 23,
     "metadata": {},
     "output_type": "execute_result"
    }
   ],
   "source": [
    "cv_X = cv.fit_transform(sejm['lemma'])\n",
    "cv_X"
   ]
  },
  {
   "cell_type": "code",
   "execution_count": 24,
   "metadata": {},
   "outputs": [],
   "source": [
    "counts = pd.DataFrame({\n",
    "    'word': cv.get_feature_names(),\n",
    "    'count': cv_X.toarray().sum(axis=0)\n",
    "})"
   ]
  },
  {
   "cell_type": "code",
   "execution_count": 25,
   "metadata": {},
   "outputs": [
    {
     "data": {
      "text/html": [
       "<div>\n",
       "<style scoped>\n",
       "    .dataframe tbody tr th:only-of-type {\n",
       "        vertical-align: middle;\n",
       "    }\n",
       "\n",
       "    .dataframe tbody tr th {\n",
       "        vertical-align: top;\n",
       "    }\n",
       "\n",
       "    .dataframe thead th {\n",
       "        text-align: right;\n",
       "    }\n",
       "</style>\n",
       "<table border=\"1\" class=\"dataframe\">\n",
       "  <thead>\n",
       "    <tr style=\"text-align: right;\">\n",
       "      <th></th>\n",
       "      <th>count</th>\n",
       "      <th>word</th>\n",
       "    </tr>\n",
       "  </thead>\n",
       "  <tbody>\n",
       "    <tr>\n",
       "      <th>800</th>\n",
       "      <td>45719</td>\n",
       "      <td>rok</td>\n",
       "    </tr>\n",
       "    <tr>\n",
       "      <th>686</th>\n",
       "      <td>29417</td>\n",
       "      <td>projekt</td>\n",
       "    </tr>\n",
       "    <tr>\n",
       "      <th>525</th>\n",
       "      <td>25896</td>\n",
       "      <td>państwo</td>\n",
       "    </tr>\n",
       "    <tr>\n",
       "      <th>273</th>\n",
       "      <td>24278</td>\n",
       "      <td>komisja</td>\n",
       "    </tr>\n",
       "    <tr>\n",
       "      <th>671</th>\n",
       "      <td>21782</td>\n",
       "      <td>prawo</td>\n",
       "    </tr>\n",
       "    <tr>\n",
       "      <th>879</th>\n",
       "      <td>21734</td>\n",
       "      <td>sprawa</td>\n",
       "    </tr>\n",
       "    <tr>\n",
       "      <th>591</th>\n",
       "      <td>21377</td>\n",
       "      <td>polski</td>\n",
       "    </tr>\n",
       "    <tr>\n",
       "      <th>604</th>\n",
       "      <td>20788</td>\n",
       "      <td>poprawka</td>\n",
       "    </tr>\n",
       "    <tr>\n",
       "      <th>371</th>\n",
       "      <td>20354</td>\n",
       "      <td>móc</td>\n",
       "    </tr>\n",
       "    <tr>\n",
       "      <th>549</th>\n",
       "      <td>20182</td>\n",
       "      <td>po</td>\n",
       "    </tr>\n",
       "    <tr>\n",
       "      <th>764</th>\n",
       "      <td>19750</td>\n",
       "      <td>pytanie</td>\n",
       "    </tr>\n",
       "    <tr>\n",
       "      <th>53</th>\n",
       "      <td>19151</td>\n",
       "      <td>chcieć</td>\n",
       "    </tr>\n",
       "    <tr>\n",
       "      <th>590</th>\n",
       "      <td>17925</td>\n",
       "      <td>polska</td>\n",
       "    </tr>\n",
       "    <tr>\n",
       "      <th>1262</th>\n",
       "      <td>17828</td>\n",
       "      <td>zmiana</td>\n",
       "    </tr>\n",
       "    <tr>\n",
       "      <th>839</th>\n",
       "      <td>16691</td>\n",
       "      <td>sejm</td>\n",
       "    </tr>\n",
       "  </tbody>\n",
       "</table>\n",
       "</div>"
      ],
      "text/plain": [
       "      count      word\n",
       "800   45719       rok\n",
       "686   29417   projekt\n",
       "525   25896   państwo\n",
       "273   24278   komisja\n",
       "671   21782     prawo\n",
       "879   21734    sprawa\n",
       "591   21377    polski\n",
       "604   20788  poprawka\n",
       "371   20354       móc\n",
       "549   20182        po\n",
       "764   19750   pytanie\n",
       "53    19151    chcieć\n",
       "590   17925    polska\n",
       "1262  17828    zmiana\n",
       "839   16691      sejm"
      ]
     },
     "execution_count": 25,
     "metadata": {},
     "output_type": "execute_result"
    }
   ],
   "source": [
    "counts.sort_values('count', ascending=False).head(15)"
   ]
  },
  {
   "cell_type": "code",
   "execution_count": 26,
   "metadata": {},
   "outputs": [
    {
     "data": {
      "text/plain": [
       "LatentDirichletAllocation(batch_size=128, doc_topic_prior=None,\n",
       "             evaluate_every=-1, learning_decay=0.7,\n",
       "             learning_method='online', learning_offset=10.0,\n",
       "             max_doc_update_iter=100, max_iter=5, mean_change_tol=0.001,\n",
       "             n_components=10, n_jobs=1, n_topics=None, perp_tol=0.1,\n",
       "             random_state=123, topic_word_prior=None,\n",
       "             total_samples=1000000.0, verbose=0)"
      ]
     },
     "execution_count": 26,
     "metadata": {},
     "output_type": "execute_result"
    }
   ],
   "source": [
    "from sklearn.decomposition import LatentDirichletAllocation as LDA\n",
    "\n",
    "n_components = 10\n",
    "lda = LDA(n_components=n_components, \n",
    "          max_iter=5,\n",
    "          learning_method='online',\n",
    "          random_state=123)\n",
    "lda.fit(cv_X)"
   ]
  },
  {
   "cell_type": "code",
   "execution_count": 27,
   "metadata": {},
   "outputs": [],
   "source": [
    "def print_top_words(model, feature_names, n_top_words):\n",
    "    for topic_idx, topic in enumerate(model.components_):\n",
    "        message = 'Topic #%d: ' % topic_idx\n",
    "        message += ' '.join([feature_names[i]\n",
    "                             for i in topic.argsort()[:-n_top_words - 1:-1]])\n",
    "        print(message)\n",
    "    print()"
   ]
  },
  {
   "cell_type": "code",
   "execution_count": 28,
   "metadata": {},
   "outputs": [
    {
     "name": "stdout",
     "output_type": "stream",
     "text": [
      "Topic #0: rok program środek samorząd droga zostać dotyczyć szkoła realizacja zadanie inwestycja zdrowie\n",
      "Topic #1: prawo projekt przepis zmiana artykuł dotyczyć osoba praca sąd zakres sprawa prawny\n",
      "Topic #2: rok polski dziecko polska człowiek po swój polak rodzina narodowy zostać osoba\n",
      "Topic #3: komisja projekt sejm sprawozdanie zmiana sprawa numer druk punkt przedstawić uchwała rozpatrzyć\n",
      "Topic #4: poprawka wstrzymać przyjąć głosować senat odrzucić przeciw głosowanie ręka podnieść zechcieć stwierdzać\n",
      "Topic #5: pytanie wniosek zabrać zadać dyskusja odpowiedź pierwszy oświadczenie punkt minuta stan ministerstwo\n",
      "Topic #6: prawo sprawiedliwość obywatelski platforma klub parlamentarny ruch demokratyczny polski imię sojusz lewica\n",
      "Topic #7: chcieć mówić państwo móc powiedzieć pytanie po chodzić sprawa wiedzieć rząd czas\n",
      "Topic #8: europejski polski polska unia kraj polityka państwo umowa rząd rok sprawa zagraniczny\n",
      "Topic #9: rok praca złoty budżet podatek osoba państwo miliard rząd publiczny społeczny kwota\n",
      "\n"
     ]
    }
   ],
   "source": [
    "print_top_words(lda, cv.get_feature_names(), 12)"
   ]
  },
  {
   "cell_type": "markdown",
   "metadata": {},
   "source": [
    "You may consider using different stopwords, e.g. are *rok*, *punkt* necessary?"
   ]
  },
  {
   "cell_type": "markdown",
   "metadata": {},
   "source": [
    "### Visualize documents"
   ]
  },
  {
   "cell_type": "markdown",
   "metadata": {},
   "source": [
    "Can LDA help us to characterize political language in Polish parliament? Let's start by plotting topic distribution for different parties."
   ]
  },
  {
   "cell_type": "code",
   "execution_count": 29,
   "metadata": {},
   "outputs": [],
   "source": [
    "lda_features = lda.transform(cv_X)\n",
    "party_lda = pd.concat([pd.DataFrame(lda_features), \n",
    "                     sejm['party'].reset_index()['party']], axis=1)"
   ]
  },
  {
   "cell_type": "code",
   "execution_count": 30,
   "metadata": {},
   "outputs": [
    {
     "data": {
      "image/png": "[encoded data removed]",
      "text/plain": [
       "<Figure size 432x288 with 1 Axes>"
      ]
     },
     "metadata": {},
     "output_type": "display_data"
    }
   ],
   "source": [
    "bar_pca = party_lda.\\\n",
    "    groupby('party').mean().transpose().plot.bar()"
   ]
  },
  {
   "cell_type": "markdown",
   "metadata": {},
   "source": [
    "**Task**\n",
    "\n",
    "Visualize LDA in 2d space grouped by party. Try PCA or t-SNE (t-SNE may take much time to converge)."
   ]
  },
  {
   "cell_type": "code",
   "execution_count": 32,
   "metadata": {},
   "outputs": [
    {
     "data": {
      "image/png": "[encoded data removed]",
      "text/plain": [
       "<Figure size 411.125x360 with 1 Axes>"
      ]
     },
     "metadata": {},
     "output_type": "display_data"
    }
   ],
   "source": [
    "from sklearn.decomposition import PCA\n",
    "\n",
    "pca_model = PCA(n_components=2)\n",
    "\n",
    "pca_lda = pca_model.fit_transform(lda_features)\n",
    "\n",
    "\n",
    "\n",
    "\n",
    "pca_lda = pd.DataFrame(pca_lda)\n",
    "pca_lda.columns = ['pca_1', 'pca_2']\n",
    "\n",
    "pca_lda = pd.concat([pca_lda, sejm['party'].reset_index()['party']], axis=1)\n",
    "\n",
    "\n",
    "import seaborn as sns\n",
    "\n",
    "pca_scatter = sns.lmplot(data=pca_lda, \n",
    "                   x='pca_1', y='pca_2', hue='party', \n",
    "                   fit_reg=False, legend=True, legend_out=True)"
   ]
  },
  {
   "cell_type": "markdown",
   "metadata": {},
   "source": [
    "**Task**\n",
    "\n",
    "Pick one topic and visualize its share changes in time."
   ]
  },
  {
   "cell_type": "code",
   "execution_count": 40,
   "metadata": {},
   "outputs": [
    {
     "data": {
      "image/png": "[encoded data removed]",
      "text/plain": [
       "<Figure size 1440x720 with 1 Axes>"
      ]
     },
     "metadata": {},
     "output_type": "display_data"
    }
   ],
   "source": [
    "budget_lda = pd.DataFrame({'budget': party_lda.iloc[:, 9].values,\n",
    "             'date': sejm['date']})\n",
    "\n",
    "from datetime import datetime\n",
    "budget_lda['date'] = budget_lda['date'].apply(lambda x: datetime.strptime(x, '%Y-%m-%d'))\n",
    "\n",
    "budget_lda = budget_lda.groupby('date').mean().reset_index()\n",
    "budget_lda['subject'] = 0\n",
    "\n",
    "from matplotlib import rcParams\n",
    "\n",
    "rcParams['figure.figsize'] = 20, 10\n",
    "budget_plot = plt.plot(budget_lda['date'], budget_lda['budget'])"
   ]
  },
  {
   "cell_type": "code",
   "execution_count": 41,
   "metadata": {},
   "outputs": [
    {
     "data": {
      "image/png": "[encoded data removed]",
      "text/plain": [
       "<Figure size 1440x720 with 1 Axes>"
      ]
     },
     "metadata": {},
     "output_type": "display_data"
    }
   ],
   "source": [
    "def moving_average(interval, window_size):\n",
    "    window = np.ones(int(window_size)) / float(window_size)\n",
    "    return np.convolve(interval, window, 'same')\n",
    "\n",
    "smooth_budget_plot = plt.plot(budget_lda['date'], moving_average(budget_lda['budget'], 25))"
   ]
  },
  {
   "cell_type": "markdown",
   "metadata": {},
   "source": [
    "**Task** (Exhaustive)\n",
    "\n",
    "Play with different numbers of topics in LDA. Try grid searching over number of topics maximizing log-likelihood. Which number is the best for the party classification problem?"
   ]
  },
  {
   "cell_type": "code",
   "execution_count": null,
   "metadata": {},
   "outputs": [],
   "source": []
  },
  {
   "cell_type": "markdown",
   "metadata": {},
   "source": [
    "**Task**\n",
    "\n",
    "Compare different parties subsets using LDA."
   ]
  },
  {
   "cell_type": "code",
   "execution_count": null,
   "metadata": {},
   "outputs": [],
   "source": []
  }
 ],
 "metadata": {
  "kernelspec": {
   "display_name": "nlp-workshop",
   "language": "python",
   "name": "nlp-workshop"
  },
  "language_info": {
   "codemirror_mode": {
    "name": "ipython",
    "version": 3
   },
   "file_extension": ".py",
   "mimetype": "text/x-python",
   "name": "python",
   "nbconvert_exporter": "python",
   "pygments_lexer": "ipython3",
   "version": "3.6.3"
  }
 },
 "nbformat": 4,
 "nbformat_minor": 2
}
