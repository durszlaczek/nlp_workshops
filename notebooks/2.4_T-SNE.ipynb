{
 "cells": [
  {
   "cell_type": "code",
   "execution_count": 1,
   "metadata": {},
   "outputs": [],
   "source": [
    "import pandas as pd\n",
    "import numpy as np\n",
    "from nltk.tokenize import RegexpTokenizer\n",
    "from nltk.stem import WordNetLemmatizer\n",
    "from sklearn.linear_model import LogisticRegression\n",
    "from sklearn.model_selection import train_test_split\n",
    "from sklearn.manifold import TSNE\n",
    "from sklearn.metrics import accuracy_score\n",
    "import csv\n",
    "import re\n",
    "news_reddit = pd.read_csv('../data/news_lang.csv', sep=';').drop('Unnamed: 0', axis=1)"
   ]
  },
  {
   "cell_type": "code",
   "execution_count": 2,
   "metadata": {},
   "outputs": [
    {
     "data": {
      "text/html": [
       "<div>\n",
       "<style scoped>\n",
       "    .dataframe tbody tr th:only-of-type {\n",
       "        vertical-align: middle;\n",
       "    }\n",
       "\n",
       "    .dataframe tbody tr th {\n",
       "        vertical-align: top;\n",
       "    }\n",
       "\n",
       "    .dataframe thead th {\n",
       "        text-align: right;\n",
       "    }\n",
       "</style>\n",
       "<table border=\"1\" class=\"dataframe\">\n",
       "  <thead>\n",
       "    <tr style=\"text-align: right;\">\n",
       "      <th></th>\n",
       "      <th>title</th>\n",
       "      <th>score</th>\n",
       "      <th>num_comments</th>\n",
       "      <th>created_utc</th>\n",
       "      <th>lang</th>\n",
       "    </tr>\n",
       "  </thead>\n",
       "  <tbody>\n",
       "    <tr>\n",
       "      <th>101212</th>\n",
       "      <td>Health Insurance Live Transfer Leads by Live C...</td>\n",
       "      <td>1</td>\n",
       "      <td>0</td>\n",
       "      <td>1487608052</td>\n",
       "      <td>en</td>\n",
       "    </tr>\n",
       "    <tr>\n",
       "      <th>573897</th>\n",
       "      <td>Obama talked trash, won money from 3 celebs ov...</td>\n",
       "      <td>1</td>\n",
       "      <td>0</td>\n",
       "      <td>1502485862</td>\n",
       "      <td>en</td>\n",
       "    </tr>\n",
       "    <tr>\n",
       "      <th>58005</th>\n",
       "      <td>Exciting Events in Atlanta</td>\n",
       "      <td>1</td>\n",
       "      <td>0</td>\n",
       "      <td>1483638710</td>\n",
       "      <td>en</td>\n",
       "    </tr>\n",
       "    <tr>\n",
       "      <th>654068</th>\n",
       "      <td>Test Post from Sahibinden Satılık Daire Alanya</td>\n",
       "      <td>1</td>\n",
       "      <td>1</td>\n",
       "      <td>1484042270</td>\n",
       "      <td>tr</td>\n",
       "    </tr>\n",
       "    <tr>\n",
       "      <th>102440</th>\n",
       "      <td>তিস্তা নিয়ে শেখ হাসিনাকে একি বললেন মমতা। BABG...</td>\n",
       "      <td>1</td>\n",
       "      <td>0</td>\n",
       "      <td>1493104126</td>\n",
       "      <td>bn</td>\n",
       "    </tr>\n",
       "  </tbody>\n",
       "</table>\n",
       "</div>"
      ],
      "text/plain": [
       "                                                    title  score  \\\n",
       "101212  Health Insurance Live Transfer Leads by Live C...      1   \n",
       "573897  Obama talked trash, won money from 3 celebs ov...      1   \n",
       "58005                          Exciting Events in Atlanta      1   \n",
       "654068     Test Post from Sahibinden Satılık Daire Alanya      1   \n",
       "102440  তিস্তা নিয়ে শেখ হাসিনাকে একি বললেন মমতা। BABG...      1   \n",
       "\n",
       "        num_comments  created_utc lang  \n",
       "101212             0   1487608052   en  \n",
       "573897             0   1502485862   en  \n",
       "58005              0   1483638710   en  \n",
       "654068             1   1484042270   tr  \n",
       "102440             0   1493104126   bn  "
      ]
     },
     "execution_count": 2,
     "metadata": {},
     "output_type": "execute_result"
    }
   ],
   "source": [
    "ones = news_reddit[news_reddit['score']==1].sample(n=(news_reddit[news_reddit['score']>1].shape[0]-news_reddit[news_reddit['score']==0].shape[0]))\n",
    "zeros = news_reddit[news_reddit['score']==0]\n",
    "rest = news_reddit[news_reddit['score']>1]\n",
    "\n",
    "news_reddit = pd.concat([ones, zeros, rest])\n",
    "news_reddit.sample(frac=1)\n",
    "news_reddit.head()"
   ]
  },
  {
   "cell_type": "code",
   "execution_count": 3,
   "metadata": {},
   "outputs": [],
   "source": [
    "news_reddit = news_reddit[news_reddit['lang'] == 'en']\n",
    "news_reddit[\"title\"] = news_reddit['title'].apply(lambda x:  re.sub(r\"\\'.+?\", '', x))\n",
    "pattern = r'[\\d.,]+|[A-Z][.A-Z]+\\b\\.*|\\w+|\\S'\n",
    "tokenizer = RegexpTokenizer(pattern)\n",
    "news_reddit[\"tokenized_titles\"] = news_reddit['title'].apply(lambda x: tokenizer.tokenize(x.lower()))"
   ]
  },
  {
   "cell_type": "code",
   "execution_count": 4,
   "metadata": {},
   "outputs": [],
   "source": [
    "def load_fb_embeddings(dict_dir, max_dict_lenght):\n",
    "    dict_df = pd.read_csv(dict_dir, sep=';', nrows=max_dict_lenght, skiprows=1, encoding='utf8', quoting=csv.QUOTE_NONE,\n",
    "                          header=None)\n",
    "    embeddings_word_index = dict_df.iloc[:, 0]\n",
    "    embeddings_word_index = pd.Series(embeddings_word_index.index, index=embeddings_word_index)\n",
    "    embeddings_word_index = embeddings_word_index.to_dict()\n",
    "    # throw out the first column (with words) and last one (with nans)\n",
    "    embeddings_matrix = np.array(dict_df.iloc[:, 1:-1])\n",
    "    return embeddings_word_index, embeddings_matrix\n",
    "\n",
    "def get_text_embs(word_list, emb_index, emb_matrix):\n",
    "    return np.mean([emb_matrix[emb_index.get(word, 0)] for word in word_list], axis=0)"
   ]
  },
  {
   "cell_type": "code",
   "execution_count": 5,
   "metadata": {},
   "outputs": [],
   "source": [
    "embeddings_word_index, embedding_matrix = load_fb_embeddings('../data/wiki10k.csv', None)"
   ]
  },
  {
   "cell_type": "code",
   "execution_count": 6,
   "metadata": {},
   "outputs": [
    {
     "name": "stdout",
     "output_type": "stream",
     "text": [
      "(300,)\n"
     ]
    },
    {
     "data": {
      "text/plain": [
       "array([ 0.10169276, -0.06427216, -0.11815847,  0.1615283 , -0.1071124 ,\n",
       "        0.0319062 , -0.04408632, -0.18752063, -0.04514017,  0.1163215 ])"
      ]
     },
     "execution_count": 6,
     "metadata": {},
     "output_type": "execute_result"
    }
   ],
   "source": [
    "print(get_text_embs(news_reddit[\"tokenized_titles\"][0], embeddings_word_index, embedding_matrix).shape)\n",
    "get_text_embs(news_reddit[\"tokenized_titles\"][0], embeddings_word_index, embedding_matrix)[0:10]"
   ]
  },
  {
   "cell_type": "code",
   "execution_count": 7,
   "metadata": {},
   "outputs": [],
   "source": [
    "X = np.vstack(news_reddit[\"tokenized_titles\"].apply(get_text_embs, args=(embeddings_word_index, embedding_matrix)))\n",
    "Y = np.array([1 if x > 1 else 0 for x in news_reddit.score])\n",
    "X_train, X_test, Y_train, Y_test = train_test_split(X, Y, test_size=0.1, random_state=1)"
   ]
  },
  {
   "cell_type": "code",
   "execution_count": 8,
   "metadata": {},
   "outputs": [
    {
     "data": {
      "text/plain": [
       "LogisticRegression(C=1.0, class_weight=None, dual=False, fit_intercept=True,\n",
       "          intercept_scaling=1, max_iter=100, multi_class='ovr', n_jobs=1,\n",
       "          penalty='l2', random_state=None, solver='liblinear', tol=0.0001,\n",
       "          verbose=0, warm_start=False)"
      ]
     },
     "execution_count": 8,
     "metadata": {},
     "output_type": "execute_result"
    }
   ],
   "source": [
    "clf = LogisticRegression()\n",
    "clf.fit(X_train, Y_train)"
   ]
  },
  {
   "cell_type": "code",
   "execution_count": 9,
   "metadata": {},
   "outputs": [
    {
     "data": {
      "text/plain": [
       "0.7428774928774928"
      ]
     },
     "execution_count": 9,
     "metadata": {},
     "output_type": "execute_result"
    }
   ],
   "source": [
    "accuracy_score(Y_test, clf.predict(X_test))"
   ]
  }
 ],
 "metadata": {
  "kernelspec": {
   "display_name": "Python 3",
   "language": "python",
   "name": "python3"
  },
  "language_info": {
   "codemirror_mode": {
    "name": "ipython",
    "version": 3
   },
   "file_extension": ".py",
   "mimetype": "text/x-python",
   "name": "python",
   "nbconvert_exporter": "python",
   "pygments_lexer": "ipython3",
   "version": "3.6.5"
  }
 },
 "nbformat": 4,
 "nbformat_minor": 2
}
