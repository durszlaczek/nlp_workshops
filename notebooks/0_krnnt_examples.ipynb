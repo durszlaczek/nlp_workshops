{
 "cells": [
  {
   "cell_type": "markdown",
   "metadata": {},
   "source": [
    "# KRNNT "
   ]
  },
  {
   "cell_type": "markdown",
   "metadata": {},
   "source": [
    "KRNNT is a morphological tagger for Polish based on **recurrent naural networks** that obtained the best lemmatization accuracy in the [PolEval 2017 competition](http://poleval.pl/). Unlike Morfeusz, it uses information about the context of a word while computing its lemma. "
   ]
  },
  {
   "cell_type": "markdown",
   "metadata": {},
   "source": [
    "### How to run the following notebook?"
   ]
  },
  {
   "cell_type": "markdown",
   "metadata": {},
   "source": [
    "You may install KRNNT locally. The instructions are given on [this Github page](https://github.com/kwrobel-nlp/krnnt)."
   ]
  },
  {
   "cell_type": "markdown",
   "metadata": {},
   "source": [
    "Alternatively, you may use [this Dockerfile](../docker/krnnt). \n",
    "\n",
    "How? Just navigate to the home directory of the `nlp_workshop` repository and run in your terminal:\n",
    "\n",
    "```make docker-build-krnnt\n",
    " make docker-run-krnnt```\n",
    " \n",
    " The above will initialize jupyter notebook kernel."
   ]
  },
  {
   "cell_type": "markdown",
   "metadata": {},
   "source": [
    "Note: Building the docker may take a while."
   ]
  },
  {
   "cell_type": "markdown",
   "metadata": {},
   "source": [
    "Now you are ready to run this notebook!"
   ]
  },
  {
   "cell_type": "markdown",
   "metadata": {},
   "source": [
    "#### 1. Import krnnt and specify settings"
   ]
  },
  {
   "cell_type": "code",
   "execution_count": 1,
   "metadata": {},
   "outputs": [
    {
     "name": "stderr",
     "output_type": "stream",
     "text": [
      "/usr/local/lib/python3.5/dist-packages/h5py/__init__.py:36: FutureWarning: Conversion of the second argument of issubdtype from `float` to `np.floating` is deprecated. In future, it will be treated as `np.float64 == np.dtype(float).type`.\n",
      "  from ._conv import register_converters as _register_converters\n",
      "Using TensorFlow backend.\n"
     ]
    }
   ],
   "source": [
    "from krnnt.keras_models import BEST\n",
    "from krnnt.pipeline import KRNNTSingle"
   ]
  },
  {
   "cell_type": "code",
   "execution_count": 2,
   "metadata": {},
   "outputs": [],
   "source": [
    "pref_args = {'keras_batch_size': 32, \n",
    "             'internal_neurons': 256, \n",
    "             'feature_name': 'tags4e3', \n",
    "             'label_name': 'label',\n",
    "             'keras_model_class': BEST,\n",
    "             'output_format': 'plain', \n",
    "             'weight_path': '../data/reana/weights_reana.hdf5', \n",
    "             'lemmatisation_path': '../data/reana/lemmatisation_reana.pkl', \n",
    "             'UniqueFeaturesValues': '../data/reana/dictionary_reana.pkl'}"
   ]
  },
  {
   "cell_type": "code",
   "execution_count": 3,
   "metadata": {},
   "outputs": [
    {
     "name": "stderr",
     "output_type": "stream",
     "text": [
      "/home/krnnt/krnnt/krnnt/keras_models.py:425: UserWarning: Update your `GRU` call to the Keras 2 API: `GRU(256, dropout=0.0, return_sequences=True, implementation=2, recurrent_dropout=0.5)`\n",
      "  consume_less='gpu', dropout_W=0.0, dropout_U=0.5), input_shape=(None, features_length))(inputs)\n",
      "/home/krnnt/krnnt/krnnt/keras_models.py:427: UserWarning: Update your `GRU` call to the Keras 2 API: `GRU(256, dropout=0.0, return_sequences=True, implementation=2, recurrent_dropout=0.5)`\n",
      "  consume_less='gpu', dropout_W=0.0, dropout_U=0.5), input_shape=(None, features_length))(x)\n",
      "/home/krnnt/krnnt/krnnt/keras_models.py:432: UserWarning: Update your `Model` call to the Keras 2 API: `Model(inputs=Tensor(\"in..., outputs=Tensor(\"ti...)`\n",
      "  self.model = Model(input=inputs, output=x)\n"
     ]
    }
   ],
   "source": [
    "krnnt = KRNNTSingle(pref_args)"
   ]
  },
  {
   "cell_type": "markdown",
   "metadata": {},
   "source": [
    "#### 2. Feed it with a list of sentences"
   ]
  },
  {
   "cell_type": "code",
   "execution_count": 8,
   "metadata": {},
   "outputs": [],
   "source": [
    "simple_example = 'Ala ma kota.\\nAlo, czy to Twój kot?'.split('\\n')"
   ]
  },
  {
   "cell_type": "code",
   "execution_count": 11,
   "metadata": {},
   "outputs": [
    {
     "data": {
      "text/plain": [
       "[{'lemmas': ['Ala'],\n",
       "  'prob': 0.9973284,\n",
       "  'sep': 'none',\n",
       "  'tag': 'subst:sg:nom:f',\n",
       "  'token': 'Ala'},\n",
       " {'lemmas': ['mieć'],\n",
       "  'prob': 0.99783665,\n",
       "  'sep': 'space',\n",
       "  'tag': 'fin:sg:ter:imperf',\n",
       "  'token': 'ma'},\n",
       " {'lemmas': ['kot'],\n",
       "  'prob': 0.9716419,\n",
       "  'sep': 'space',\n",
       "  'tag': 'subst:sg:acc:m2',\n",
       "  'token': 'kota'},\n",
       " {'lemmas': ['.'],\n",
       "  'prob': 0.9999964,\n",
       "  'sep': 'none',\n",
       "  'tag': 'interp',\n",
       "  'token': '.'}]"
      ]
     },
     "execution_count": 11,
     "metadata": {},
     "output_type": "execute_result"
    }
   ],
   "source": [
    "results = krnnt.tag_sentences(simple_example) \n",
    "results[0] # first sentence"
   ]
  },
  {
   "cell_type": "code",
   "execution_count": 5,
   "metadata": {},
   "outputs": [
    {
     "data": {
      "text/plain": [
       "[['Ala'],\n",
       " ['mieć'],\n",
       " ['kot'],\n",
       " ['.'],\n",
       " ['Alo'],\n",
       " [','],\n",
       " ['czy'],\n",
       " ['to'],\n",
       " ['twój'],\n",
       " ['kot'],\n",
       " ['?']]"
      ]
     },
     "execution_count": 5,
     "metadata": {},
     "output_type": "execute_result"
    }
   ],
   "source": [
    "[x['lemmas'] for y in [0, 1] for x in results[y]]"
   ]
  },
  {
   "cell_type": "markdown",
   "metadata": {},
   "source": [
    "Note that even in such a simple example lemmatizations makes mistakes"
   ]
  },
  {
   "cell_type": "markdown",
   "metadata": {},
   "source": [
    "#### 3. Experiment with more examples"
   ]
  },
  {
   "cell_type": "code",
   "execution_count": null,
   "metadata": {},
   "outputs": [],
   "source": [
    "# lemmatize sth yourself!"
   ]
  }
 ],
 "metadata": {
  "kernelspec": {
   "display_name": "Python 3",
   "language": "python",
   "name": "python3"
  },
  "language_info": {
   "codemirror_mode": {
    "name": "ipython",
    "version": 3
   },
   "file_extension": ".py",
   "mimetype": "text/x-python",
   "name": "python",
   "nbconvert_exporter": "python",
   "pygments_lexer": "ipython3",
   "version": "3.6.3"
  }
 },
 "nbformat": 4,
 "nbformat_minor": 2
}
